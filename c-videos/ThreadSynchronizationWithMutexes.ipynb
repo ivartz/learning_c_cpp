{
 "cells": [
  {
   "cell_type": "markdown",
   "metadata": {},
   "source": [
    "# Thread synchronization with mutexes in C"
   ]
  },
  {
   "cell_type": "markdown",
   "metadata": {},
   "source": [
    "Episode:\n",
    "\n",
    "https://www.youtube.com/watch?v=nlHIuG3RQ0g"
   ]
  },
  {
   "cell_type": "code",
   "execution_count": 1,
   "metadata": {},
   "outputs": [],
   "source": [
    "#include <iostream>\n",
    "#include <stdio.h>\n",
    "#include <stdlib.h>\n",
    "#include <pthread.h>"
   ]
  },
  {
   "cell_type": "code",
   "execution_count": 2,
   "metadata": {},
   "outputs": [],
   "source": [
    "#define COUNT_ID 100\n",
    "#define MAX_CORES 12"
   ]
  },
  {
   "cell_type": "code",
   "execution_count": 3,
   "metadata": {},
   "outputs": [],
   "source": [
    "static pthread_mutex_t mutex = PTHREAD_MUTEX_INITIALIZER;\n",
    "long long i = 0;"
   ]
  },
  {
   "cell_type": "code",
   "execution_count": 4,
   "metadata": {},
   "outputs": [],
   "source": [
    "void *start_counting(void *arg){\n",
    "    for (;;){\n",
    "        // aquire lock\n",
    "        pthread_mutex_lock(&mutex);\n",
    "        \n",
    "        if (i >= COUNT_ID){\n",
    "            pthread_mutex_unlock(&mutex);\n",
    "            return NULL;\n",
    "        }\n",
    "        \n",
    "        ++i;\n",
    "        \n",
    "        // release lock\n",
    "        pthread_mutex_unlock(&mutex);\n",
    "        \n",
    "        //std::cout << \"i = \";\n",
    "        //std::cout << i << std::endl;\n",
    "        \n",
    "        printf(\"i = %lld\\n\", i);\n",
    "    }\n",
    "}"
   ]
  },
  {
   "cell_type": "code",
   "execution_count": 5,
   "metadata": {},
   "outputs": [],
   "source": [
    "int j = 0;\n",
    "\n",
    "// create a thread group the size of MAX_CORES\n",
    "pthread_t *thread_group = (unsigned long *)malloc(sizeof(pthread_t) * MAX_CORES);\n",
    "\n",
    "// start all thread to begin work\n",
    "for (j = 0; j < MAX_CORES; ++j){\n",
    "    pthread_create(&thread_group[j], NULL, start_counting, NULL);\n",
    "}\n",
    "\n",
    "// wat for all threads to finish\n",
    "for (j = 0; j < MAX_CORES; ++j){\n",
    "    pthread_join(thread_group[j], NULL);\n",
    "}"
   ]
  }
 ],
 "metadata": {
  "kernelspec": {
   "display_name": "C++14",
   "language": "C++14",
   "name": "xcpp14"
  },
  "language_info": {
   "codemirror_mode": "text/x-c++src",
   "file_extension": ".cpp",
   "mimetype": "text/x-c++src",
   "name": "c++",
   "version": "14"
  }
 },
 "nbformat": 4,
 "nbformat_minor": 4
}
