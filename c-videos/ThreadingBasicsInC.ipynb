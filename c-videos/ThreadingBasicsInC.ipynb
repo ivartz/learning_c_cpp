{
 "cells": [
  {
   "cell_type": "markdown",
   "metadata": {},
   "source": [
    "# Threading Basics in C"
   ]
  },
  {
   "cell_type": "markdown",
   "metadata": {},
   "source": [
    "Episode:\n",
    "\n",
    "https://www.youtube.com/watch?v=nVESQQg-Oiw"
   ]
  },
  {
   "cell_type": "code",
   "execution_count": 1,
   "metadata": {},
   "outputs": [],
   "source": [
    "#include <iostream>\n",
    "#include <stdio.h>\n",
    "#include <stdlib.h>\n",
    "#include <pthread.h>"
   ]
  },
  {
   "cell_type": "code",
   "execution_count": 2,
   "metadata": {},
   "outputs": [],
   "source": [
    "void *entry_point(void *value){\n",
    "    // This is for printing in the notebook\n",
    "    std::cout << \"Hello from the second thread :)\" << std::endl;\n",
    "    \n",
    "    // This is for printing int the console\n",
    "    //printf(\"Hello from the second thread :)\\n\");\n",
    "    \n",
    "    int *num = (int *) value;\n",
    "    \n",
    "    std::cout << \"The value of value is: \";\n",
    "    std::cout << *num << std::endl;\n",
    "    \n",
    "    return NULL;\n",
    "}"
   ]
  },
  {
   "cell_type": "code",
   "execution_count": 3,
   "metadata": {},
   "outputs": [
    {
     "name": "stdout",
     "output_type": "stream",
     "text": [
      "Hello from the first thread :D\n",
      "Hello from the second thread :)\n",
      "The value of value is: 123\n"
     ]
    }
   ],
   "source": [
    "pthread_t thread;\n",
    "\n",
    "std::cout << \"Hello from the first thread :D\" << std::endl;\n",
    "//printf(\"Hello from the first thread :D\\n\");\n",
    "\n",
    "int num = 123;\n",
    "\n",
    "pthread_create(&thread, NULL, entry_point, &num);\n",
    "\n",
    "pthread_join(thread, NULL);"
   ]
  },
  {
   "cell_type": "code",
   "execution_count": null,
   "metadata": {},
   "outputs": [],
   "source": []
  }
 ],
 "metadata": {
  "kernelspec": {
   "display_name": "C++14",
   "language": "C++14",
   "name": "xcpp14"
  },
  "language_info": {
   "codemirror_mode": "text/x-c++src",
   "file_extension": ".cpp",
   "mimetype": "text/x-c++src",
   "name": "c++",
   "version": "14"
  }
 },
 "nbformat": 4,
 "nbformat_minor": 4
}
